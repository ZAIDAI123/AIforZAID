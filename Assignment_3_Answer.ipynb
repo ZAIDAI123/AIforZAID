{
 "cells": [
  {
   "cell_type": "markdown",
   "id": "6ea940cf",
   "metadata": {},
   "source": [
    "#1: Why are functions advantageous to have in your programs?\n",
    "#answer:\n",
    "1:we call it any time during the run time\n",
    "2:we can make the code compact\n",
    "3: we can reuse the code as we dont have to call it many time\n",
    "4:reduce the complexity in code\n",
    "5:time saving"
   ]
  },
  {
   "cell_type": "code",
   "execution_count": 5,
   "id": "5356945d",
   "metadata": {},
   "outputs": [],
   "source": [
    "#question :2. When does the code in a function run: when it's specified or when it's called?\n",
    "\n",
    "#answer: when the function get called in the program , it leaves the current section and start executing first linre inside the function\n",
    "\n",
    "def test(a,b): --- specified\n",
    "    return a+b  -- get called"
   ]
  },
  {
   "cell_type": "code",
   "execution_count": null,
   "id": "e310c3c3",
   "metadata": {},
   "outputs": [],
   "source": [
    "#3. What statement creates a function?\n",
    "\n",
    "#answer: def test():\n",
    "           return "
   ]
  },
  {
   "cell_type": "markdown",
   "id": "316eb76c",
   "metadata": {},
   "source": [
    "# 4. What is the difference between a function and a function call?\n",
    "\n",
    "answer:\n",
    "a function is a peace of code which enhanced reuseability and modularity of your program so that you dont have to write the same program again n again whereas function call means that function get invoked ... if the function is getting called then their is no use of that function.\n",
    "\n",
    "def test1 (a,b):\n",
    "  return a*b\n",
    " \n"
   ]
  },
  {
   "cell_type": "markdown",
   "id": "63a5faaa",
   "metadata": {},
   "source": [
    "# 5. How many global scopes are there in a Python program? How many local scopes?\n",
    "\n",
    "answer:\n",
    "there is only one global scope are there in pyhton as per program execution\n",
    "variable assigned inside a function is the local scopes in python"
   ]
  },
  {
   "cell_type": "markdown",
   "id": "c79c2143",
   "metadata": {},
   "source": [
    "# 6. What happens to variables in a local scope when the function call returns?\n",
    "\n",
    "answer:\n",
    "A local variable becomes undefined after the function call completes\n",
    "\n",
    "def test3(a,b):\n",
    "  return a+b    --- after this function call  it becomes undefined "
   ]
  },
  {
   "cell_type": "markdown",
   "id": "b01a1f25",
   "metadata": {},
   "source": [
    "# 7. What is the concept of a return value? Is it possible to have a return value in an expression?\n",
    "\n",
    "answer:\n",
    "function takes arguments , performs some operations, and returns a value. The value that a function returns to the caller is generally known as the function's return value.\n",
    "\n",
    "def function_name(arg1,arg2):\n",
    " return arg1+arg2\n",
    " \n",
    " "
   ]
  },
  {
   "cell_type": "markdown",
   "id": "5bbc37fb",
   "metadata": {},
   "source": [
    "# 8. If a function does not have a return statement, what is the return value of a call to that function?\n",
    "\n",
    "\n",
    "answer:\n",
    "if a function does have retun statement it returns None"
   ]
  },
  {
   "cell_type": "code",
   "execution_count": 11,
   "id": "937b8195",
   "metadata": {},
   "outputs": [
    {
     "name": "stdout",
     "output_type": "stream",
     "text": [
      "Python is very good\n"
     ]
    }
   ],
   "source": [
    "#9. How do you make a function variable refer to the global variable?\n",
    "#answer: we can use global at the starting\n",
    "\n",
    "x = \"awesome\"\n",
    "\n",
    "def test3():\n",
    "    global x\n",
    "    x = \"very good\"\n",
    "\n",
    "test3()\n",
    "\n",
    "print(\"Python is \" + x)"
   ]
  },
  {
   "cell_type": "code",
   "execution_count": 13,
   "id": "0a9215c8",
   "metadata": {},
   "outputs": [
    {
     "data": {
      "text/plain": [
       "NoneType"
      ]
     },
     "execution_count": 13,
     "metadata": {},
     "output_type": "execute_result"
    }
   ],
   "source": [
    "#10. What is the data type of None?\n",
    "\n",
    "x = None\n",
    "type(x)"
   ]
  },
  {
   "cell_type": "code",
   "execution_count": null,
   "id": "a30d9310",
   "metadata": {},
   "outputs": [],
   "source": [
    "#What does the sentence import areallyourpetsnamederic do?\n",
    "\n",
    "#answer: this get import but no things will get"
   ]
  },
  {
   "cell_type": "code",
   "execution_count": null,
   "id": "e287c5d0",
   "metadata": {},
   "outputs": [],
   "source": [
    "#If you had a bacon() feature in a spam module, what would you call it after importing spam?\n",
    "\n",
    "#answer: This function can be called with spam. bacon()."
   ]
  },
  {
   "cell_type": "code",
   "execution_count": null,
   "id": "35ed1399",
   "metadata": {},
   "outputs": [],
   "source": [
    "#13. What can you do to save a programme from crashing if it encounters an error?\n",
    "\n",
    "#answer:we can use try and except blocks so that it dont lead a program for crash , it get handled in try and except block"
   ]
  },
  {
   "cell_type": "code",
   "execution_count": null,
   "id": "32e89415",
   "metadata": {},
   "outputs": [],
   "source": [
    "#14. What is the purpose of the try clause? What is the purpose of the except clause?\n",
    "\n",
    "#answer: The try block lets you test a block of code for errors. The except block lets you handle the error."
   ]
  }
 ],
 "metadata": {
  "kernelspec": {
   "display_name": "Python 3 (ipykernel)",
   "language": "python",
   "name": "python3"
  },
  "language_info": {
   "codemirror_mode": {
    "name": "ipython",
    "version": 3
   },
   "file_extension": ".py",
   "mimetype": "text/x-python",
   "name": "python",
   "nbconvert_exporter": "python",
   "pygments_lexer": "ipython3",
   "version": "3.9.7"
  }
 },
 "nbformat": 4,
 "nbformat_minor": 5
}
