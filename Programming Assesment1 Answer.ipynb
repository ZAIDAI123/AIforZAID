{
 "cells": [
  {
   "cell_type": "code",
   "execution_count": 2,
   "id": "3e2570ab",
   "metadata": {},
   "outputs": [
    {
     "name": "stdout",
     "output_type": "stream",
     "text": [
      "hello python\n"
     ]
    }
   ],
   "source": [
    "#question 1:to print hello world\n",
    "'''program to print hello world'''\n",
    "print(\"hello python\")"
   ]
  },
  {
   "cell_type": "code",
   "execution_count": 10,
   "id": "ef4fac6a",
   "metadata": {},
   "outputs": [
    {
     "name": "stdout",
     "output_type": "stream",
     "text": [
      "65\n"
     ]
    }
   ],
   "source": [
    "#question2:write a program to do arithmetic opeartion sch as add and division\n",
    "\n",
    "a = 10\n",
    "b =55\n",
    "c = a+b\n",
    "print(c)"
   ]
  },
  {
   "cell_type": "code",
   "execution_count": 11,
   "id": "93bcea89",
   "metadata": {},
   "outputs": [
    {
     "name": "stdout",
     "output_type": "stream",
     "text": [
      "4.0\n"
     ]
    }
   ],
   "source": [
    "#question2:write a program to do arithmetic opeartion sch as add and division\n",
    "#answer:\n",
    "\n",
    "a = 20\n",
    "b = 5\n",
    "\n",
    "div = a/b\n",
    "print(div)"
   ]
  },
  {
   "cell_type": "code",
   "execution_count": 16,
   "id": "26792705",
   "metadata": {},
   "outputs": [
    {
     "name": "stdout",
     "output_type": "stream",
     "text": [
      "enter first side7\n",
      "enter second side8\n",
      "enter third side9\n",
      "area of trinagele is 26.832815729997478\n"
     ]
    }
   ],
   "source": [
    "#3.\tWrite a Python program to find the area of a triangle?\n",
    "#answer:\n",
    "\n",
    "a = float(input(\"enter first side\"))\n",
    "b = float(input(\"enter second side\"))\n",
    "c = float(input(\"enter third side\"))\n",
    "\n",
    "s = (a+b+c)/2\n",
    "area =(s*(s-a)*(s-b)*(s-c))**0.5\n",
    "print('area of trinagele is' , area)"
   ]
  },
  {
   "cell_type": "code",
   "execution_count": 20,
   "id": "688ec91f",
   "metadata": {},
   "outputs": [
    {
     "name": "stdout",
     "output_type": "stream",
     "text": [
      "swap is  20\n",
      "swap is 30\n"
     ]
    }
   ],
   "source": [
    "#4.\tWrite a Python program to swap two variables?\n",
    "#answer:\n",
    "\n",
    "a = 30\n",
    "b = 20\n",
    "temp=a    \n",
    "a = b     \n",
    "b = temp \n",
    "\n",
    "print('swap is ', a)\n",
    "print('swap is',b)"
   ]
  },
  {
   "cell_type": "code",
   "execution_count": 23,
   "id": "e883412c",
   "metadata": {},
   "outputs": [
    {
     "name": "stdout",
     "output_type": "stream",
     "text": [
      "0.40784369404259424\n"
     ]
    }
   ],
   "source": [
    "#5.\tWrite a Python program to generate a random number?\n",
    "#answer:\n",
    "\n",
    "import random\n",
    "n = random.random()\n",
    "print(n)\n"
   ]
  },
  {
   "cell_type": "code",
   "execution_count": null,
   "id": "9c93e31c",
   "metadata": {},
   "outputs": [],
   "source": []
  },
  {
   "cell_type": "code",
   "execution_count": null,
   "id": "25b9a524",
   "metadata": {},
   "outputs": [],
   "source": []
  }
 ],
 "metadata": {
  "kernelspec": {
   "display_name": "Python 3 (ipykernel)",
   "language": "python",
   "name": "python3"
  },
  "language_info": {
   "codemirror_mode": {
    "name": "ipython",
    "version": 3
   },
   "file_extension": ".py",
   "mimetype": "text/x-python",
   "name": "python",
   "nbconvert_exporter": "python",
   "pygments_lexer": "ipython3",
   "version": "3.9.7"
  }
 },
 "nbformat": 4,
 "nbformat_minor": 5
}
