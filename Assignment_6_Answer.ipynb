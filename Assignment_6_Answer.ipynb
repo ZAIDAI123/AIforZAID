{
 "cells": [
  {
   "cell_type": "code",
   "execution_count": 1,
   "id": "99065edf",
   "metadata": {},
   "outputs": [
    {
     "name": "stdout",
     "output_type": "stream",
     "text": [
      "sudh is writing \"with pen\"hence no problem\n"
     ]
    }
   ],
   "source": [
    "#1. What are escape characters, and how do you use them?\n",
    "#answer : \\,tab,\\n,single quote,//back slach backslash is an escape character\n",
    "\n",
    "s = \"sudh is writing \\\"with pen\\\"hence no problem\"\n",
    "print(s)"
   ]
  },
  {
   "cell_type": "code",
   "execution_count": 3,
   "id": "3ac2ca0c",
   "metadata": {},
   "outputs": [
    {
     "name": "stdout",
     "output_type": "stream",
     "text": [
      "it's right\n"
     ]
    }
   ],
   "source": [
    "#1. What are escape characters, and how do you use them?\n",
    "#answer : \\,tab,single quote,//back slach backslash is an escape character\n",
    "\n",
    "s = \"it\\'s right\"\n",
    "print(s)"
   ]
  },
  {
   "cell_type": "code",
   "execution_count": 4,
   "id": "3c1744fb",
   "metadata": {},
   "outputs": [
    {
     "name": "stdout",
     "output_type": "stream",
     "text": [
      "he is a \\boy\n"
     ]
    }
   ],
   "source": [
    "#1. What are escape characters, and how do you use them?\n",
    "#answer : \\,tab,\\n,single quote,//back slach backslash is an escape character\n",
    "\n",
    "s = \"he is a \\\\boy\"\n",
    "print(s)"
   ]
  },
  {
   "cell_type": "code",
   "execution_count": 6,
   "id": "bc405e44",
   "metadata": {},
   "outputs": [
    {
     "name": "stdout",
     "output_type": "stream",
     "text": [
      "he is a boy\this name is sudhanshu\n"
     ]
    }
   ],
   "source": [
    "#1. What are escape characters, and how do you use them?\n",
    "#answer : \\,tab,single quote,//back slach backslash is an escape character\n",
    "\n",
    "s = \"he is a boy\\this name is sudhanshu\"\n",
    "print(s)"
   ]
  },
  {
   "cell_type": "code",
   "execution_count": 11,
   "id": "699e1352",
   "metadata": {},
   "outputs": [
    {
     "name": "stdout",
     "output_type": "stream",
     "text": [
      "my name is \bzaid\n"
     ]
    }
   ],
   "source": [
    "#1. What are escape characters, and how do you use them?\n",
    "#answer : \\,tab,single quote,//back slach backslash is an escape character\n",
    "\n",
    "s = \"my name is \\bzaid\"\n",
    "print(s)"
   ]
  },
  {
   "cell_type": "code",
   "execution_count": 12,
   "id": "7d4d8ea6",
   "metadata": {},
   "outputs": [
    {
     "name": "stdout",
     "output_type": "stream",
     "text": [
      "i am a boy \n",
      "my name is zaid\n"
     ]
    }
   ],
   "source": [
    "#1. What are escape characters, and how do you use them?\n",
    "#answer : \\,tab,single quote,//back slach backslash is an escape character\n",
    "\n",
    "s =\"i am a boy \\nmy name is zaid\"\n",
    "print(s)"
   ]
  },
  {
   "cell_type": "code",
   "execution_count": 13,
   "id": "bb66d269",
   "metadata": {},
   "outputs": [
    {
     "name": "stdout",
     "output_type": "stream",
     "text": [
      "i am a boy \n",
      "my name is zaid\n"
     ]
    }
   ],
   "source": [
    "#2. What do the escape characters n and t stand for?\n",
    "\n",
    "#answer:n stand for next line and t stand for tab it will give a bit of space in between.\n",
    "\n",
    "s =\"i am a boy \\nmy name is zaid\"\n",
    "print(s)"
   ]
  },
  {
   "cell_type": "code",
   "execution_count": 14,
   "id": "e5f0c1a6",
   "metadata": {},
   "outputs": [
    {
     "name": "stdout",
     "output_type": "stream",
     "text": [
      "he is a boy\this name is sudhanshu\n"
     ]
    }
   ],
   "source": [
    "\n",
    "#2. What do the escape characters n and t stand for?\n",
    "\n",
    "#answer:n stand for next line and t stand for tab it will give a bit of space in between.\n",
    "\n",
    "s = \"he is a boy\\this name is sudhanshu\"\n",
    "print(s)"
   ]
  },
  {
   "cell_type": "code",
   "execution_count": 15,
   "id": "1b2900b4",
   "metadata": {},
   "outputs": [
    {
     "name": "stdout",
     "output_type": "stream",
     "text": [
      "my name is \bzaid\n"
     ]
    }
   ],
   "source": [
    "#3. What is the way to include backslash characters in a string?\n",
    "\n",
    "#answer:\n",
    "s = \"my name is \\bzaid\"\n",
    "print(s)"
   ]
  },
  {
   "cell_type": "code",
   "execution_count": 19,
   "id": "65aa3cdd",
   "metadata": {},
   "outputs": [
    {
     "name": "stdout",
     "output_type": "stream",
     "text": [
      "Howl's Moving Castle\n"
     ]
    }
   ],
   "source": [
    "#4. The string \"Howl's Moving Castle\" is a correct value. Why isn't the single quote character in the word Howl's not escaped a problem?\n",
    "# single quote is fine because at start and end you are using double quote hence it worked very fine\n",
    "s = \"Howl's Moving Castle\"\n",
    "\n",
    "print(s)"
   ]
  },
  {
   "cell_type": "code",
   "execution_count": 21,
   "id": "b3b96a1e",
   "metadata": {},
   "outputs": [
    {
     "name": "stdout",
     "output_type": "stream",
     "text": [
      "hello   \n",
      "welcome\n"
     ]
    }
   ],
   "source": [
    "#5. How do you write a string of newlines if you don't want to use the n character?\n",
    "\n",
    "s =\"hello\"\n",
    "s1 = \"welcome\"\n",
    "\n",
    "print(s, \"  \")\n",
    "print(s1)"
   ]
  },
  {
   "cell_type": "code",
   "execution_count": 22,
   "id": "e82810cc",
   "metadata": {},
   "outputs": [
    {
     "name": "stdout",
     "output_type": "stream",
     "text": [
      "e\n"
     ]
    }
   ],
   "source": [
    "#6. What are the values of the given expressions?\n",
    "#answer:\n",
    "s = 'Hello, world!'[1]\n",
    "print(s)"
   ]
  },
  {
   "cell_type": "code",
   "execution_count": 23,
   "id": "4ba92a95",
   "metadata": {},
   "outputs": [
    {
     "name": "stdout",
     "output_type": "stream",
     "text": [
      "Hello\n"
     ]
    }
   ],
   "source": [
    "#6. What are the values of the given expressions?\n",
    "#answer:\n",
    "\n",
    "s = 'Hello, world!'[0:5]\n",
    "print(s)"
   ]
  },
  {
   "cell_type": "code",
   "execution_count": 24,
   "id": "0cee9a17",
   "metadata": {},
   "outputs": [
    {
     "name": "stdout",
     "output_type": "stream",
     "text": [
      "Hello\n"
     ]
    }
   ],
   "source": [
    "#6. What are the values of the given expressions?\n",
    "#answer:\n",
    "\n",
    "s = 'Hello, world!'[:5]\n",
    "print(s)"
   ]
  },
  {
   "cell_type": "code",
   "execution_count": 25,
   "id": "0744dff0",
   "metadata": {},
   "outputs": [
    {
     "name": "stdout",
     "output_type": "stream",
     "text": [
      "lo, world!\n"
     ]
    }
   ],
   "source": [
    "#6. What are the values of the given expressions?\n",
    "#answer:\n",
    "\n",
    "s = 'Hello, world!'[3:]\n",
    "print(s)"
   ]
  },
  {
   "cell_type": "code",
   "execution_count": 26,
   "id": "b44c8d25",
   "metadata": {},
   "outputs": [
    {
     "name": "stdout",
     "output_type": "stream",
     "text": [
      "HELLO\n"
     ]
    }
   ],
   "source": [
    "#7. What are the values of the following expressions?\n",
    "#answer:\n",
    "\n",
    "s = 'Hello'.upper()\n",
    "print(s)"
   ]
  },
  {
   "cell_type": "code",
   "execution_count": 27,
   "id": "5feb39cc",
   "metadata": {},
   "outputs": [
    {
     "name": "stdout",
     "output_type": "stream",
     "text": [
      "True\n"
     ]
    }
   ],
   "source": [
    "#7. What are the values of the following expressions?\n",
    "#answer:\n",
    "\n",
    "s = 'Hello'.upper().isupper()\n",
    "print(s)"
   ]
  },
  {
   "cell_type": "code",
   "execution_count": 28,
   "id": "9824e196",
   "metadata": {},
   "outputs": [
    {
     "name": "stdout",
     "output_type": "stream",
     "text": [
      "hello\n"
     ]
    }
   ],
   "source": [
    "#7. What are the values of the following expressions?\n",
    "#answer:\n",
    "\n",
    "\n",
    "s = 'Hello'.upper().lower()\n",
    "print(s)"
   ]
  },
  {
   "cell_type": "code",
   "execution_count": 29,
   "id": "209241c2",
   "metadata": {},
   "outputs": [
    {
     "name": "stdout",
     "output_type": "stream",
     "text": [
      "['Remember,', 'remember,', 'the', 'fifth', 'of', 'July.']\n"
     ]
    }
   ],
   "source": [
    "#8. What are the values of the following expressions?\n",
    "'Remember, remember, the fifth of July.'.split()\n",
    "'-'.join('There can only one.'.split())\n",
    "\n",
    "\n",
    "s = 'Remember, remember, the fifth of July.'.split()\n",
    "'-'.join('There can only one.'.split())\n",
    "print(s)"
   ]
  },
  {
   "cell_type": "code",
   "execution_count": 32,
   "id": "3aa41c91",
   "metadata": {},
   "outputs": [
    {
     "data": {
      "text/plain": [
       "'           what is your name            '"
      ]
     },
     "execution_count": 32,
     "metadata": {},
     "output_type": "execute_result"
    }
   ],
   "source": [
    "#9. What are the methods for right-justifying, left-justifying, and centering a string?\n",
    "\n",
    "s = \"what is your name\" \n",
    "s.center(40)"
   ]
  },
  {
   "cell_type": "code",
   "execution_count": 41,
   "id": "8e1c2daf",
   "metadata": {},
   "outputs": [
    {
     "data": {
      "text/plain": [
       "'what is your name-----------------------'"
      ]
     },
     "execution_count": 41,
     "metadata": {},
     "output_type": "execute_result"
    }
   ],
   "source": [
    "s = \"what is your name\"\n",
    "s.ljust(40, '-')"
   ]
  },
  {
   "cell_type": "code",
   "execution_count": 42,
   "id": "523ca6e9",
   "metadata": {},
   "outputs": [
    {
     "data": {
      "text/plain": [
       "'-----------------------what is your name'"
      ]
     },
     "execution_count": 42,
     "metadata": {},
     "output_type": "execute_result"
    }
   ],
   "source": [
    "s = \"what is your name\"\n",
    "s.rjust(40,'-')"
   ]
  },
  {
   "cell_type": "code",
   "execution_count": 44,
   "id": "b768af7e",
   "metadata": {},
   "outputs": [
    {
     "data": {
      "text/plain": [
       "'what is your name'"
      ]
     },
     "execution_count": 44,
     "metadata": {},
     "output_type": "execute_result"
    }
   ],
   "source": [
    "#10. What is the best way to remove whitespace characters from the start or end?\n",
    "\n",
    "#answer:by using strip\n",
    "\n",
    "s =\"    what is your name     \"\n",
    "s.strip()"
   ]
  },
  {
   "cell_type": "code",
   "execution_count": 45,
   "id": "152efc32",
   "metadata": {},
   "outputs": [
    {
     "data": {
      "text/plain": [
       "'what is your name     '"
      ]
     },
     "execution_count": 45,
     "metadata": {},
     "output_type": "execute_result"
    }
   ],
   "source": [
    "#10. What is the best way to remove whitespace characters from the start or end?\n",
    "\n",
    "#answer:by using lstrip\n",
    "\n",
    "s =\"    what is your name     \"\n",
    "s.lstrip()\n"
   ]
  },
  {
   "cell_type": "code",
   "execution_count": 47,
   "id": "67201f43",
   "metadata": {},
   "outputs": [
    {
     "data": {
      "text/plain": [
       "'    what is your name'"
      ]
     },
     "execution_count": 47,
     "metadata": {},
     "output_type": "execute_result"
    }
   ],
   "source": [
    "#10. What is the best way to remove whitespace characters from the start or end?\n",
    "\n",
    "#answer:by using rstrip\n",
    "\n",
    "s =\"    what is your name     \"\n",
    "s.rstrip()"
   ]
  },
  {
   "cell_type": "code",
   "execution_count": null,
   "id": "c15ffe11",
   "metadata": {},
   "outputs": [],
   "source": []
  }
 ],
 "metadata": {
  "kernelspec": {
   "display_name": "Python 3 (ipykernel)",
   "language": "python",
   "name": "python3"
  },
  "language_info": {
   "codemirror_mode": {
    "name": "ipython",
    "version": 3
   },
   "file_extension": ".py",
   "mimetype": "text/x-python",
   "name": "python",
   "nbconvert_exporter": "python",
   "pygments_lexer": "ipython3",
   "version": "3.9.7"
  }
 },
 "nbformat": 4,
 "nbformat_minor": 5
}
