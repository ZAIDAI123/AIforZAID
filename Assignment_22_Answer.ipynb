{
 "cells": [
  {
   "cell_type": "code",
   "execution_count": 2,
   "id": "d6535b5d",
   "metadata": {},
   "outputs": [
    {
     "name": "stdout",
     "output_type": "stream",
     "text": [
      "iNeuron\n"
     ]
    }
   ],
   "source": [
    "#1. What is the result of the code, and explain?&gt;&gt;&gt; X = &#39;iNeuron&#39;&gt;&gt;&gt; def func():print(X)&gt;&gt;&gt; func()\n",
    "\n",
    "X = 'iNeuron'\n",
    "def func():\n",
    "    print(X)\n",
    "func()"
   ]
  },
  {
   "cell_type": "code",
   "execution_count": 3,
   "id": "fa7e8729",
   "metadata": {},
   "outputs": [
    {
     "name": "stdout",
     "output_type": "stream",
     "text": [
      "iNeuron\n"
     ]
    }
   ],
   "source": [
    "#2. What is the result of the code, and explain? X = iNeuron;def func():X = NI!, func(); print(X)\n",
    "\n",
    "#answer: inside the function we are not calling that function empty, hence no result just it is printing print(X) as iNeuron is defined outside of the function\n",
    "\n",
    "X = 'iNeuron'\n",
    "def func():\n",
    "    X = 'NI!'\n",
    "func()\n",
    "print(X)"
   ]
  },
  {
   "cell_type": "code",
   "execution_count": 4,
   "id": "ac6c47ad",
   "metadata": {},
   "outputs": [
    {
     "name": "stdout",
     "output_type": "stream",
     "text": [
      "NI!\n",
      "iNeuron\n"
     ]
    }
   ],
   "source": [
    "#3. What does this code print, and why?X = iNeuron;def func():X = 'NI';print(X)func(); print(X)?\n",
    "\n",
    "#answer: inside the function we are calling print function hence it is printing NI first then at the last it is printing iNeuron as iNeuron is defined outside of the function\n",
    "\n",
    "X = 'iNeuron'\n",
    "def func():\n",
    "    X = 'NI!'\n",
    "    print(X)\n",
    "func()\n",
    "print(X)"
   ]
  },
  {
   "cell_type": "code",
   "execution_count": 6,
   "id": "a107b0e3",
   "metadata": {},
   "outputs": [
    {
     "name": "stdout",
     "output_type": "stream",
     "text": [
      "NI\n"
     ]
    }
   ],
   "source": [
    "#4. What output does this code produce? Why?; X = iNeuron;def func():global X;X = 'NI';func(); print(X)\n",
    "#answer:as we have define x as global and placed the value as NI hence it gets printed\n",
    "\n",
    "X = 'iNeuron'\n",
    "def func():\n",
    "    global X\n",
    "    X = 'NI'\n",
    "func()\n",
    "print(X)"
   ]
  },
  {
   "cell_type": "code",
   "execution_count": 7,
   "id": "fac95c3b",
   "metadata": {},
   "outputs": [
    {
     "data": {
      "text/plain": [
       "'iNeuron'"
      ]
     },
     "execution_count": 7,
     "metadata": {},
     "output_type": "execute_result"
    }
   ],
   "source": [
    "#5. What about this code—what’s the output, and why?; X = iNeuron;def func():X = 'NI';def nested():print(X)nested()func(); X\n",
    "#answer:\n",
    "\n",
    "X = 'iNeuron'\n",
    "def func():\n",
    "    X = 'NI'\n",
    "    def nested():\n",
    "        print(X)\n",
    "        nested()\n",
    "func()\n",
    "X"
   ]
  },
  {
   "cell_type": "code",
   "execution_count": null,
   "id": "b2a154a6",
   "metadata": {},
   "outputs": [],
   "source": []
  }
 ],
 "metadata": {
  "kernelspec": {
   "display_name": "Python 3 (ipykernel)",
   "language": "python",
   "name": "python3"
  },
  "language_info": {
   "codemirror_mode": {
    "name": "ipython",
    "version": 3
   },
   "file_extension": ".py",
   "mimetype": "text/x-python",
   "name": "python",
   "nbconvert_exporter": "python",
   "pygments_lexer": "ipython3",
   "version": "3.9.7"
  }
 },
 "nbformat": 4,
 "nbformat_minor": 5
}
