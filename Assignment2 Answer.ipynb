{
 "cells": [
  {
   "cell_type": "code",
   "execution_count": null,
   "id": "d655323a",
   "metadata": {},
   "outputs": [],
   "source": [
    "#1.What are the two values of the Boolean data type? How do you write them?\n",
    "#answer:TRUE & FALSE ARE THE 2 BOOLEAN DATA TYPE\n",
    "\n",
    "s = \"sun\"\n",
    "s2= \"moon\"\n",
    "if s2 == s:\n",
    "    \n",
    "    print(True)\n",
    "else:\n",
    "    print(False)"
   ]
  },
  {
   "cell_type": "code",
   "execution_count": null,
   "id": "ad2ec3a9",
   "metadata": {},
   "outputs": [],
   "source": [
    "#2. What are the three different types of Boolean operators?\n",
    "\n",
    "#answer: And ,OR and Not are the three types of operator"
   ]
  },
  {
   "cell_type": "markdown",
   "id": "2e6dcd40",
   "metadata": {},
   "source": [
    "# 3. Make a list of each Boolean operator's truth tables (i.e. every possible combination of Boolean values for the operator and what it evaluate ).\n",
    "\n",
    "#ANSWER\n",
    "\n",
    "FOR AND:\n",
    "A     B     OUTPUT\n",
    "TRUE && TRUE = TRUE\n",
    "TRUE && FALSE = FALSE\n",
    "FALSE && TRUE = FALSE\n",
    "FALSE && FALSE = FALSE\n",
    " \n",
    "FOR OR:\n",
    "A     B     OUTPUT\n",
    "TRUE || TRUE = TRUE \n",
    "TRUE || FALSE = TRUE\n",
    "FALSE || TRUE = TRUE\n",
    "FALSE || FALSE = FALSE\n",
    "   \n",
    "FOR NOT:\n",
    "A     B     OUTPUT\n",
    "TRUE || TRUE = FALSE \n",
    "TRUE || FALSE = FALSE\n",
    "FALSE || TRUE = TRUE\n",
    "FALSE || FALSE = TRUE"
   ]
  },
  {
   "cell_type": "code",
   "execution_count": null,
   "id": "c1b32598",
   "metadata": {},
   "outputs": [],
   "source": [
    "#4. What are the values of the following expressions?\n",
    "#ANSWER:\n",
    "(5 > 4) and (3 == 5)"
   ]
  },
  {
   "cell_type": "code",
   "execution_count": null,
   "id": "1a412570",
   "metadata": {},
   "outputs": [],
   "source": [
    "#4. What are the values of the following expressions?\n",
    "#ANSWER:\n",
    "\n",
    "not (5 > 4)"
   ]
  },
  {
   "cell_type": "code",
   "execution_count": null,
   "id": "5618e431",
   "metadata": {},
   "outputs": [],
   "source": [
    "#4. What are the values of the following expressions?\n",
    "#ANSWER:\n",
    "\n",
    "(5 > 4) or (3 == 5)"
   ]
  },
  {
   "cell_type": "code",
   "execution_count": null,
   "id": "c6e1a217",
   "metadata": {},
   "outputs": [],
   "source": [
    "#4. What are the values of the following expressions?\n",
    "#ANSWER:\n",
    "\n",
    "not ((5 > 4) or (3 == 5))"
   ]
  },
  {
   "cell_type": "code",
   "execution_count": null,
   "id": "2e77edee",
   "metadata": {},
   "outputs": [],
   "source": [
    "#4. What are the values of the following expressions?\n",
    "#ANSWER:\n",
    "\n",
    "(True and True) and (True == False)"
   ]
  },
  {
   "cell_type": "code",
   "execution_count": null,
   "id": "e1e059f6",
   "metadata": {},
   "outputs": [],
   "source": [
    "#4. What are the values of the following expressions?\n",
    "#ANSWER:\n",
    "\n",
    "(not False) or (not True)"
   ]
  },
  {
   "cell_type": "code",
   "execution_count": null,
   "id": "1e3b997d",
   "metadata": {},
   "outputs": [],
   "source": [
    "#5.What are the six comparison operators?\n",
    "#ANSWER:\n",
    "#less than, greater than, less than or equal to, greater than or equal to, equal to, and not equal to\n"
   ]
  },
  {
   "cell_type": "code",
   "execution_count": null,
   "id": "e5cce84d",
   "metadata": {},
   "outputs": [],
   "source": [
    "#6. How do you tell the difference between the equal to and assignment operators?Describe a condition and when you would use one.\n",
    "\n",
    "#ANSWER: = is an assignment operator which assign value on the write to the variable on the left.whereas == this checks whetehr the 2 given operand are equal or not.\n",
    "\n",
    "#EXAMPLE:\n",
    "\n",
    "s1 = \"zaid\"\n",
    "s2 = \"tree\"\n",
    "if s2 == s1:\n",
    "       print(\"these two are same\")\n",
    "else:\n",
    "    print(\"s1 and s2 are not same\")\n"
   ]
  },
  {
   "cell_type": "code",
   "execution_count": null,
   "id": "730cc86d",
   "metadata": {},
   "outputs": [],
   "source": [
    "#7. Identify the three blocks in this code:\n",
    "#ANSWWER:\n",
    "\n",
    "spam = 0\n",
    "if spam == 10:\n",
    "    print('eggs')\n",
    "if spam > 5:\n",
    "    print('bacon')\n",
    "else:\n",
    "    \n",
    "    print('ham')\n",
    "    print('spam')\n",
    "    print('spam')"
   ]
  },
  {
   "cell_type": "code",
   "execution_count": null,
   "id": "4a2d0bfb",
   "metadata": {},
   "outputs": [],
   "source": [
    "#8. Write code that prints Hello if 1 is stored in spam, prints Howdy if 2 is stored in spam, and prints Greetings! if anything else is stored in spam.\n",
    "\n",
    "#answer:\n",
    "\n",
    "if spam == 1:\n",
    "    print('Hello')\n",
    "elif spam == 2:\n",
    "    print(\"Howdy\") \n",
    "else:\n",
    "          print(\"Greeting\")\n",
    "   "
   ]
  },
  {
   "cell_type": "code",
   "execution_count": null,
   "id": "7fa4bfe6",
   "metadata": {},
   "outputs": [],
   "source": [
    "#9.If your programme is stuck in an endless loop, what keys you’ll press?\n",
    "\n",
    "#answer: cntrl+c"
   ]
  },
  {
   "cell_type": "code",
   "execution_count": null,
   "id": "d2ce2376",
   "metadata": {},
   "outputs": [],
   "source": [
    "#10. How can you tell the difference between break and continue?\n",
    "\n",
    "#answer:when the break gets apply the loop gets terminated and it come out of the loop but for the continue it will terminate the current iteration and move to next  iteration of the loop.\n",
    "\n",
    "s =[1,2,3,4,5]\n",
    "for i in s:\n",
    "    if i == 3:\n",
    "        break\n",
    "    print(i)"
   ]
  },
  {
   "cell_type": "code",
   "execution_count": null,
   "id": "790f3f8e",
   "metadata": {},
   "outputs": [],
   "source": [
    "#10. How can you tell the difference between break and continue?\n",
    "\n",
    "#answer:when the break gets apply the loop gets terminated and it come out of the loop but for the continue it will terminate the current iteration and move to next  iteration of the loop\n",
    "\n",
    "s =[1,2,3,4,5]\n",
    "for i in s:\n",
    "    if i == 3:\n",
    "        continue\n",
    "    print(i)"
   ]
  },
  {
   "cell_type": "code",
   "execution_count": null,
   "id": "1dbc9bbc",
   "metadata": {},
   "outputs": [],
   "source": [
    "#11. In a for loop, what is the difference between range(10), range(0, 10), and range(0, 10, 1)?\n",
    "\n",
    "#answer:\n",
    "range(10) --  it only return sequence of integers from  start like 0,1,2,3,4,5,6,7,8,9 excluding 10.\n",
    "range(0,10) --start with o and go till 10 excluding 10.\n",
    "range(0,10,1)-- start with 0 and go till 10 excluding 10 but it has to increment step by 1 as step is given by 1"
   ]
  },
  {
   "cell_type": "code",
   "execution_count": null,
   "id": "27ca659b",
   "metadata": {},
   "outputs": [],
   "source": [
    "#12. Write a short program that prints the numbers 1 to 10 using a for loop. Then write an equivalent program that prints the numbers 1 to 10 using a while loop.\n",
    "\n",
    "for i in range(1,11):\n",
    "    print(i)"
   ]
  },
  {
   "cell_type": "code",
   "execution_count": 1,
   "id": "d469cdd6",
   "metadata": {},
   "outputs": [
    {
     "name": "stdout",
     "output_type": "stream",
     "text": [
      "1\n",
      "2\n",
      "3\n",
      "4\n",
      "5\n",
      "6\n",
      "7\n",
      "8\n",
      "9\n",
      "10\n"
     ]
    }
   ],
   "source": [
    "#12. Write a short program that prints the numbers 1 to 10 using a for loop. Then write an equivalent program that prints the numbers 1 to 10 using a while loop.\n",
    "\n",
    "a = 1\n",
    "b = 10\n",
    "while a <= b:\n",
    "    print(a)\n",
    "    a = a+1"
   ]
  },
  {
   "cell_type": "code",
   "execution_count": null,
   "id": "eb32b6c8",
   "metadata": {},
   "outputs": [],
   "source": [
    "#13. If you had a function named bacon() inside a module named spam, how would you call it after importing spam?\n",
    "#answer:  spam. bacon()"
   ]
  }
 ],
 "metadata": {
  "kernelspec": {
   "display_name": "Python 3 (ipykernel)",
   "language": "python",
   "name": "python3"
  },
  "language_info": {
   "codemirror_mode": {
    "name": "ipython",
    "version": 3
   },
   "file_extension": ".py",
   "mimetype": "text/x-python",
   "name": "python",
   "nbconvert_exporter": "python",
   "pygments_lexer": "ipython3",
   "version": "3.9.7"
  }
 },
 "nbformat": 4,
 "nbformat_minor": 5
}
