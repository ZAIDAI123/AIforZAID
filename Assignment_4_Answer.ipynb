{
 "cells": [
  {
   "cell_type": "code",
   "execution_count": null,
   "id": "025196b3",
   "metadata": {},
   "outputs": [],
   "source": [
    "#1. What exactly is []?\n",
    "\n",
    "#answer:this is list\n",
    "\n",
    "#l = [1,2,3,4]"
   ]
  },
  {
   "cell_type": "code",
   "execution_count": 2,
   "id": "2e14b228",
   "metadata": {},
   "outputs": [],
   "source": [
    "#2. In a list of values stored in a variable called spam, how would you assign the value 'hello' as the third value? (Assume [2, 4, 6, 8, 10] are in spam.)\n",
    "\n",
    "spam = [2,4,6,8,10]\n",
    "spam[3] = \"hello\""
   ]
  },
  {
   "cell_type": "code",
   "execution_count": 3,
   "id": "de294d0f",
   "metadata": {},
   "outputs": [
    {
     "data": {
      "text/plain": [
       "[2, 4, 6, 'hello', 10]"
      ]
     },
     "execution_count": 3,
     "metadata": {},
     "output_type": "execute_result"
    }
   ],
   "source": [
    "spam"
   ]
  },
  {
   "cell_type": "code",
   "execution_count": 4,
   "id": "09e961f7",
   "metadata": {},
   "outputs": [],
   "source": [
    "#2:\n",
    "spam = ['a', 'b', 'c', 'd'] \n",
    "spam[3]= \"hello\""
   ]
  },
  {
   "cell_type": "code",
   "execution_count": 5,
   "id": "d07828ec",
   "metadata": {},
   "outputs": [
    {
     "data": {
      "text/plain": [
       "['a', 'b', 'c', 'hello']"
      ]
     },
     "execution_count": 5,
     "metadata": {},
     "output_type": "execute_result"
    }
   ],
   "source": [
    "spam"
   ]
  },
  {
   "cell_type": "code",
   "execution_count": 13,
   "id": "e9636e82",
   "metadata": {},
   "outputs": [
    {
     "data": {
      "text/plain": [
       "8"
      ]
     },
     "execution_count": 13,
     "metadata": {},
     "output_type": "execute_result"
    }
   ],
   "source": [
    "#3. What is the value of spam[int(int('3' * 2) / 11)]?\n",
    "spam = [2,4,6,8,10]\n",
    "spam[int(int('3' *2)/11)]"
   ]
  },
  {
   "cell_type": "code",
   "execution_count": 14,
   "id": "dd34d623",
   "metadata": {},
   "outputs": [
    {
     "data": {
      "text/plain": [
       "10"
      ]
     },
     "execution_count": 14,
     "metadata": {},
     "output_type": "execute_result"
    }
   ],
   "source": [
    "#4. What is the value of spam[-1]?\n",
    "spam = [2,4,6,8,10]\n",
    "spam[-1]"
   ]
  },
  {
   "cell_type": "code",
   "execution_count": 15,
   "id": "76f62a92",
   "metadata": {},
   "outputs": [
    {
     "data": {
      "text/plain": [
       "[2, 4]"
      ]
     },
     "execution_count": 15,
     "metadata": {},
     "output_type": "execute_result"
    }
   ],
   "source": [
    "#5. What is the value of spam[:2]?\n",
    "\n",
    "spam = [2,4,6,8,10]\n",
    "spam[:2]"
   ]
  },
  {
   "cell_type": "code",
   "execution_count": 16,
   "id": "c64b4bda",
   "metadata": {},
   "outputs": [
    {
     "data": {
      "text/plain": [
       "1"
      ]
     },
     "execution_count": 16,
     "metadata": {},
     "output_type": "execute_result"
    }
   ],
   "source": [
    "#Let's pretend bacon has the list [3.14, 'cat,' 11, 'cat,' True] for the next three questions.\n",
    "#6. What is the value of bacon.index('cat')?\n",
    "#answer6:\n",
    "\n",
    "bacon = [3.14,\"cat\",11,\"cat\",True]\n",
    "bacon.index(\"cat\")\n"
   ]
  },
  {
   "cell_type": "code",
   "execution_count": 17,
   "id": "73795d2e",
   "metadata": {},
   "outputs": [],
   "source": [
    "#Let's pretend bacon has the list [3.14, 'cat,' 11, 'cat,' True] for the next three questions.\n",
    "#7. How does bacon.append(99) change the look of the list value in bacon?\n",
    "\n",
    "bacon = [3.14,\"cat\",11,\"cat\",True]\n",
    "bacon.append(99)"
   ]
  },
  {
   "cell_type": "code",
   "execution_count": 18,
   "id": "d2b21e13",
   "metadata": {},
   "outputs": [
    {
     "data": {
      "text/plain": [
       "[3.14, 'cat', 11, 'cat', True, 99]"
      ]
     },
     "execution_count": 18,
     "metadata": {},
     "output_type": "execute_result"
    }
   ],
   "source": [
    "bacon"
   ]
  },
  {
   "cell_type": "code",
   "execution_count": 19,
   "id": "e8a03237",
   "metadata": {},
   "outputs": [],
   "source": [
    "#8. How does bacon.remove('cat') change the look of the list in bacon?\n",
    "#answer: it only removes fisrt bacon and list looks like below\n",
    "\n",
    "bacon = [3.14,\"cat\",11,\"cat\",True]\n",
    "bacon.remove(\"cat\")"
   ]
  },
  {
   "cell_type": "code",
   "execution_count": 20,
   "id": "97c4371d",
   "metadata": {},
   "outputs": [
    {
     "data": {
      "text/plain": [
       "[3.14, 11, 'cat', True]"
      ]
     },
     "execution_count": 20,
     "metadata": {},
     "output_type": "execute_result"
    }
   ],
   "source": [
    "bacon"
   ]
  },
  {
   "cell_type": "code",
   "execution_count": null,
   "id": "5b037450",
   "metadata": {},
   "outputs": [],
   "source": [
    "#9. What are the list concatenation and list replication operators?\n",
    "\n",
    "#answer: The operator for list concatenation is +, while the operator for replication is *"
   ]
  },
  {
   "cell_type": "code",
   "execution_count": 22,
   "id": "b08bed5c",
   "metadata": {},
   "outputs": [],
   "source": [
    "#10. What is difference between the list methods append() and insert()?\n",
    "# append will add that variable which ever yo are passing at the end only where as insert can replace the element which ever you pass. examples are below\n",
    "\n",
    "bacon = [3.14,\"cat\",11,\"cat\",True]\n",
    "bacon.insert(2,4)"
   ]
  },
  {
   "cell_type": "code",
   "execution_count": 23,
   "id": "f25a5f74",
   "metadata": {},
   "outputs": [
    {
     "data": {
      "text/plain": [
       "[3.14, 'cat', 4, 11, 'cat', True]"
      ]
     },
     "execution_count": 23,
     "metadata": {},
     "output_type": "execute_result"
    }
   ],
   "source": [
    "bacon"
   ]
  },
  {
   "cell_type": "code",
   "execution_count": 24,
   "id": "0bdd62d8",
   "metadata": {},
   "outputs": [],
   "source": [
    "bacon.append(4)"
   ]
  },
  {
   "cell_type": "code",
   "execution_count": 25,
   "id": "09be92f4",
   "metadata": {},
   "outputs": [
    {
     "data": {
      "text/plain": [
       "[3.14, 'cat', 4, 11, 'cat', True, 4]"
      ]
     },
     "execution_count": 25,
     "metadata": {},
     "output_type": "execute_result"
    }
   ],
   "source": [
    "bacon"
   ]
  },
  {
   "cell_type": "code",
   "execution_count": 26,
   "id": "163814b4",
   "metadata": {},
   "outputs": [],
   "source": [
    "#11. What are the two methods for removing items from a list?\n",
    "#answer: 1.clear = is an inbuilt method which will clear the whole list. 2= pop: you need to provide the index it will pop it out. 3.remove= it will remove the given index as given in below examples\n",
    "\n",
    "\n",
    "bacon = [3.14,\"cat\",11,\"cat\",True]\n",
    "bacon.remove(3.14)"
   ]
  },
  {
   "cell_type": "code",
   "execution_count": 27,
   "id": "231f95fe",
   "metadata": {},
   "outputs": [
    {
     "data": {
      "text/plain": [
       "['cat', 11, 'cat', True]"
      ]
     },
     "execution_count": 27,
     "metadata": {},
     "output_type": "execute_result"
    }
   ],
   "source": [
    "bacon\n"
   ]
  },
  {
   "cell_type": "code",
   "execution_count": 28,
   "id": "5082693a",
   "metadata": {},
   "outputs": [
    {
     "data": {
      "text/plain": [
       "'cat'"
      ]
     },
     "execution_count": 28,
     "metadata": {},
     "output_type": "execute_result"
    }
   ],
   "source": [
    "bacon.pop(2)"
   ]
  },
  {
   "cell_type": "code",
   "execution_count": 29,
   "id": "323c005b",
   "metadata": {},
   "outputs": [
    {
     "data": {
      "text/plain": [
       "['cat', 11, True]"
      ]
     },
     "execution_count": 29,
     "metadata": {},
     "output_type": "execute_result"
    }
   ],
   "source": [
    "bacon"
   ]
  },
  {
   "cell_type": "code",
   "execution_count": 30,
   "id": "c3b99a3e",
   "metadata": {},
   "outputs": [],
   "source": [
    "bacon.clear()"
   ]
  },
  {
   "cell_type": "code",
   "execution_count": 31,
   "id": "785357d8",
   "metadata": {},
   "outputs": [
    {
     "data": {
      "text/plain": [
       "[]"
      ]
     },
     "execution_count": 31,
     "metadata": {},
     "output_type": "execute_result"
    }
   ],
   "source": [
    "bacon"
   ]
  },
  {
   "cell_type": "code",
   "execution_count": 32,
   "id": "d1f8c6a9",
   "metadata": {},
   "outputs": [],
   "source": [
    "#12. Describe how list values and string values are identical.\n",
    "#answer:The similarity between Lists and Strings in Python is that both are sequences. The differences between them are that 1, Lists are mutable but Strings are immutable. 2, elements of a list can be of different types whereas a String only contains characters that are all of String type.\n",
    "\n",
    "list = [1,2,3,\"sudh\",[1,2,3],(1,2,3),{\"key1\":\"sudh\"}] where as in string it is not possible, below is the eample"
   ]
  },
  {
   "cell_type": "code",
   "execution_count": 33,
   "id": "a7283a09",
   "metadata": {},
   "outputs": [
    {
     "data": {
      "text/plain": [
       "[1, 2, 3, 'sudh', [1, 2, 3], (1, 2, 3), {'key1': 'sudh'}]"
      ]
     },
     "execution_count": 33,
     "metadata": {},
     "output_type": "execute_result"
    }
   ],
   "source": [
    "list"
   ]
  },
  {
   "cell_type": "code",
   "execution_count": 37,
   "id": "07c7ca1e",
   "metadata": {},
   "outputs": [],
   "source": [
    "s = (1,2,3,\"sudh\", [1,2,3,3])"
   ]
  },
  {
   "cell_type": "code",
   "execution_count": 38,
   "id": "f3e8bacc",
   "metadata": {},
   "outputs": [
    {
     "data": {
      "text/plain": [
       "(1, 2, 3, 'sudh', [1, 2, 3, 3])"
      ]
     },
     "execution_count": 38,
     "metadata": {},
     "output_type": "execute_result"
    }
   ],
   "source": [
    "s"
   ]
  },
  {
   "cell_type": "code",
   "execution_count": 39,
   "id": "d4b92007",
   "metadata": {},
   "outputs": [
    {
     "data": {
      "text/plain": [
       "tuple"
      ]
     },
     "execution_count": 39,
     "metadata": {},
     "output_type": "execute_result"
    }
   ],
   "source": [
    "type(s)"
   ]
  },
  {
   "cell_type": "code",
   "execution_count": 40,
   "id": "27bf4572",
   "metadata": {},
   "outputs": [],
   "source": [
    "#13. What's the difference between tuples and lists?\n",
    "#answer: tuples are immutable and list are mutable that means it can be changed as given in below example\n",
    "\n",
    "t =(1,2,3,4,\"sudh\")"
   ]
  },
  {
   "cell_type": "code",
   "execution_count": 41,
   "id": "f8004b87",
   "metadata": {},
   "outputs": [
    {
     "data": {
      "text/plain": [
       "(1, 2, 3, 4, 'sudh')"
      ]
     },
     "execution_count": 41,
     "metadata": {},
     "output_type": "execute_result"
    }
   ],
   "source": [
    "t\n"
   ]
  },
  {
   "cell_type": "code",
   "execution_count": 42,
   "id": "bb4a8206",
   "metadata": {},
   "outputs": [
    {
     "ename": "SyntaxError",
     "evalue": "cannot assign to function call (Temp/ipykernel_14248/1068011026.py, line 1)",
     "output_type": "error",
     "traceback": [
      "\u001b[1;36m  File \u001b[1;32m\"C:\\Users\\USER\\AppData\\Local\\Temp/ipykernel_14248/1068011026.py\"\u001b[1;36m, line \u001b[1;32m1\u001b[0m\n\u001b[1;33m    t(0) = \"sum\"\u001b[0m\n\u001b[1;37m    ^\u001b[0m\n\u001b[1;31mSyntaxError\u001b[0m\u001b[1;31m:\u001b[0m cannot assign to function call\n"
     ]
    }
   ],
   "source": [
    "t(0) = \"sum\""
   ]
  },
  {
   "cell_type": "code",
   "execution_count": 43,
   "id": "dc60505a",
   "metadata": {},
   "outputs": [],
   "source": [
    "list = [1,2,3,[1,2,3],\"sudh\"]"
   ]
  },
  {
   "cell_type": "code",
   "execution_count": 45,
   "id": "413e2d47",
   "metadata": {},
   "outputs": [],
   "source": [
    "list[0] = 3"
   ]
  },
  {
   "cell_type": "code",
   "execution_count": 46,
   "id": "d6475d05",
   "metadata": {},
   "outputs": [
    {
     "data": {
      "text/plain": [
       "[3, 2, 3, [1, 2, 3], 'sudh']"
      ]
     },
     "execution_count": 46,
     "metadata": {},
     "output_type": "execute_result"
    }
   ],
   "source": [
    "list"
   ]
  },
  {
   "cell_type": "code",
   "execution_count": 51,
   "id": "739b726c",
   "metadata": {},
   "outputs": [
    {
     "name": "stdout",
     "output_type": "stream",
     "text": [
      "42\n"
     ]
    }
   ],
   "source": [
    "#14. How do you type a tuple value that only contains the integer 42?\n",
    "#answer: t(42)\n",
    "\n",
    "t = (\"sudh\",\"white\",42)\n",
    "for i in t:\n",
    "    if type(i) == int:\n",
    "        print(i)"
   ]
  },
  {
   "cell_type": "code",
   "execution_count": 64,
   "id": "769e89c7",
   "metadata": {},
   "outputs": [
    {
     "name": "stdout",
     "output_type": "stream",
     "text": [
      "(1, 2, 3, (1, 2, 3), [3, 4, 5])\n",
      "<class 'tuple'>\n"
     ]
    }
   ],
   "source": [
    "#15. How do you get a list value's tuple form? How do you get a tuple value's list form?\n",
    "#answer\n",
    "\n",
    "list = [1,2,3,(1,2,3),[3,4,5]]\n",
    "tuple = tuple(list)\n",
    "\n",
    "print(tuple)\n",
    "print(type(tuple))\n",
    "\n",
    "\n",
    "\n"
   ]
  },
  {
   "cell_type": "code",
   "execution_count": 68,
   "id": "60f37f0d",
   "metadata": {},
   "outputs": [
    {
     "ename": "TypeError",
     "evalue": "'list' object is not callable",
     "output_type": "error",
     "traceback": [
      "\u001b[1;31m---------------------------------------------------------------------------\u001b[0m",
      "\u001b[1;31mTypeError\u001b[0m                                 Traceback (most recent call last)",
      "\u001b[1;32m~\\AppData\\Local\\Temp/ipykernel_14248/1785423154.py\u001b[0m in \u001b[0;36m<module>\u001b[1;34m\u001b[0m\n\u001b[0;32m      6\u001b[0m \u001b[0mt\u001b[0m \u001b[1;33m=\u001b[0m \u001b[1;33m(\u001b[0m\u001b[1;36m10\u001b[0m\u001b[1;33m,\u001b[0m \u001b[1;36m20\u001b[0m\u001b[1;33m,\u001b[0m \u001b[1;36m30\u001b[0m\u001b[1;33m,\u001b[0m \u001b[1;36m40\u001b[0m\u001b[1;33m,\u001b[0m \u001b[1;36m50\u001b[0m\u001b[1;33m)\u001b[0m\u001b[1;33m\u001b[0m\u001b[1;33m\u001b[0m\u001b[0m\n\u001b[0;32m      7\u001b[0m \u001b[1;31m#tuple to list\u001b[0m\u001b[1;33m\u001b[0m\u001b[1;33m\u001b[0m\u001b[0m\n\u001b[1;32m----> 8\u001b[1;33m \u001b[0ml\u001b[0m \u001b[1;33m=\u001b[0m \u001b[0mlist\u001b[0m\u001b[1;33m(\u001b[0m\u001b[0mt\u001b[0m\u001b[1;33m)\u001b[0m\u001b[1;33m\u001b[0m\u001b[1;33m\u001b[0m\u001b[0m\n\u001b[0m\u001b[0;32m      9\u001b[0m \u001b[1;33m\u001b[0m\u001b[0m\n\u001b[0;32m     10\u001b[0m \u001b[1;31m#print list\u001b[0m\u001b[1;33m\u001b[0m\u001b[1;33m\u001b[0m\u001b[0m\n",
      "\u001b[1;31mTypeError\u001b[0m: 'list' object is not callable"
     ]
    }
   ],
   "source": [
    "#15. How do you get a list value's tuple form? How do you get a tuple value's list form?\n",
    "#answer:\n",
    "\n",
    "#initialize tuple\n",
    "\n",
    "t = (10, 20, 30, 40, 50)\n",
    "#tuple to list\n",
    "l = list(t)\n",
    " \n",
    "#print list\n",
    "\n",
    "\n",
    "print(l)"
   ]
  },
  {
   "cell_type": "code",
   "execution_count": null,
   "id": "42a449d0",
   "metadata": {},
   "outputs": [],
   "source": [
    "#16. Variables that \"contain\" list values are not necessarily lists themselves. Instead, what do they contain?\n",
    "\n",
    "#answer:They contain references to list values."
   ]
  },
  {
   "cell_type": "code",
   "execution_count": 69,
   "id": "bfcfde93",
   "metadata": {},
   "outputs": [
    {
     "name": "stdout",
     "output_type": "stream",
     "text": [
      "[1, 2, 3, [4, 5, 6], 'sudh']\n"
     ]
    }
   ],
   "source": [
    "#17. How do you distinguish between copy.copy() and copy.deepcopy()?\n",
    "\n",
    "#answer: in copy.copy = if we change any element in the list and then perform copy.copy then the o/p will be different from the exact one but in deep it will be same as the original as it make a copy of all the elements in original list\n",
    "import copy\n",
    "l = [1,2,3,[4,5,6],\"sudh\"]\n",
    "list = copy.copy(l)\n",
    "print(list)"
   ]
  },
  {
   "cell_type": "code",
   "execution_count": 70,
   "id": "25e7bef7",
   "metadata": {},
   "outputs": [
    {
     "name": "stdout",
     "output_type": "stream",
     "text": [
      "[2, 3, 4, [5, 6, 7], 'sudh']\n"
     ]
    }
   ],
   "source": [
    "\n",
    "import copy\n",
    "l =[2,3,4,[5,6,7],\"sudh\"]\n",
    "list = copy.deepcopy(l)\n",
    "print(list)"
   ]
  },
  {
   "cell_type": "code",
   "execution_count": null,
   "id": "a35136ae",
   "metadata": {},
   "outputs": [],
   "source": []
  }
 ],
 "metadata": {
  "kernelspec": {
   "display_name": "Python 3 (ipykernel)",
   "language": "python",
   "name": "python3"
  },
  "language_info": {
   "codemirror_mode": {
    "name": "ipython",
    "version": 3
   },
   "file_extension": ".py",
   "mimetype": "text/x-python",
   "name": "python",
   "nbconvert_exporter": "python",
   "pygments_lexer": "ipython3",
   "version": "3.9.7"
  }
 },
 "nbformat": 4,
 "nbformat_minor": 5
}
