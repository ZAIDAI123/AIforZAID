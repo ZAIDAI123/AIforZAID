{
 "cells": [
  {
   "cell_type": "code",
   "execution_count": null,
   "id": "02614328",
   "metadata": {},
   "outputs": [],
   "source": [
    "#1. What advantages do Excel spreadsheets have over CSV spreadsheets?\n",
    "\n",
    "#answer:Files saved in CSV format can be edited by text editors, and also CSV file cannot be password protected. Excel can perform VBA Coding, functions, formulas and create summaries easily when compared to CSV. CSV cannot perform VBA Coding, functions, formulas and create summaries easily when compared to Excel.\n"
   ]
  },
  {
   "cell_type": "code",
   "execution_count": null,
   "id": "1ee0823f",
   "metadata": {},
   "outputs": [],
   "source": [
    "#2.What do you pass to csv.reader() and csv.writer() to create reader and writer objects?\n",
    "\n",
    "#answer:we can use the csv. writer() function. The csv. writer() function returns a writer object that converts the user's data into a delimited string."
   ]
  },
  {
   "cell_type": "code",
   "execution_count": null,
   "id": "78c948af",
   "metadata": {},
   "outputs": [],
   "source": [
    "#3. What modes do File objects for reader and writer objects need to be opened in?\n",
    "\n",
    "#answer:In order to open a file for reading or writing purposes, we must use the built-in open() function. The open() function uses two arguments. First is the name of the file and second is for what purpose we want to open it ."
   ]
  },
  {
   "cell_type": "code",
   "execution_count": null,
   "id": "342f08a2",
   "metadata": {},
   "outputs": [],
   "source": [
    "#4. What method takes a list argument and writes it to a CSV file?\n",
    "\n",
    "#answer:To convert the list to csv, we need to convert from list to dataframe and then use the to_csv() function to convert dataframe to a csv file"
   ]
  },
  {
   "cell_type": "code",
   "execution_count": null,
   "id": "3ffc598b",
   "metadata": {},
   "outputs": [],
   "source": [
    "#5. What do the keyword arguments delimiter and line terminator do?\n",
    "\n",
    "#answer:This changes the delimiter and line terminator characters in your file. The delimiter is the character that appears between cells on a row. By default, the delimiter for a CSV file is a comma. The line terminator is the character that comes at the end of a row."
   ]
  },
  {
   "cell_type": "code",
   "execution_count": null,
   "id": "537641b9",
   "metadata": {},
   "outputs": [],
   "source": [
    "#6. What function takes a string of JSON data and returns a Python data structure?\n",
    "\n",
    "#answer:loads() method return Python data structure of JSON string or data."
   ]
  },
  {
   "cell_type": "code",
   "execution_count": null,
   "id": "62bd5c3f",
   "metadata": {},
   "outputs": [],
   "source": [
    "#7. What function takes a Python data structure and returns a string of JSON data?\n",
    "\n",
    "#answer:loads() method return Python data structure of JSON string or data."
   ]
  }
 ],
 "metadata": {
  "kernelspec": {
   "display_name": "Python 3 (ipykernel)",
   "language": "python",
   "name": "python3"
  },
  "language_info": {
   "codemirror_mode": {
    "name": "ipython",
    "version": 3
   },
   "file_extension": ".py",
   "mimetype": "text/x-python",
   "name": "python",
   "nbconvert_exporter": "python",
   "pygments_lexer": "ipython3",
   "version": "3.9.7"
  }
 },
 "nbformat": 4,
 "nbformat_minor": 5
}
