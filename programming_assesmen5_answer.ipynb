{
 "cells": [
  {
   "cell_type": "code",
   "execution_count": 1,
   "id": "26957acf",
   "metadata": {},
   "outputs": [
    {
     "name": "stdout",
     "output_type": "stream",
     "text": [
      "LCM of 12 and 20=60\n"
     ]
    }
   ],
   "source": [
    "#1. Write a Python Program to Find LCM?\n",
    "\n",
    "x=12\n",
    "y=20\n",
    "if x > y:\n",
    "    greater = x  \n",
    "else:\n",
    "    greater = y  \n",
    "while(True):\n",
    "    if((greater % x == 0) and (greater % y == 0)):\n",
    "        lcm = greater  \n",
    "        break  \n",
    "    greater += 1\n",
    "\n",
    "print (\"LCM of {} and {}={}\".format(x,y,lcm))\n",
    "\n"
   ]
  },
  {
   "cell_type": "code",
   "execution_count": null,
   "id": "347c5942",
   "metadata": {},
   "outputs": [],
   "source": [
    "#2. Write a Python Program to Find HCF?\n",
    "\n",
    "#answer:\n",
    "\n",
    "x = int(input(\"Enter first number: \"))  \n",
    "y = int(input(\"Enter second number: \"))  \n",
    "if x > y:\n",
    "    smaller = y  \n",
    "else:\n",
    "    smaller = x  \n",
    "for i in range(1,smaller + 1):\n",
    "    if((x % i == 0) and (y % i == 0)):\n",
    "        hcf = i  \n",
    "\n",
    "print(\"The H.C.F. of\", x,\"and\", y,\"is\", hcf)  "
   ]
  },
  {
   "cell_type": "code",
   "execution_count": 3,
   "id": "874e6769",
   "metadata": {},
   "outputs": [
    {
     "name": "stdout",
     "output_type": "stream",
     "text": [
      "0b111 in binary.\n",
      "0o7 in octal.\n",
      "0x7 in hexadecimal.\n"
     ]
    }
   ],
   "source": [
    "#3. Write a Python Program to Convert Decimal to Binary, Octal and Hexadecimal?\n",
    "\n",
    "#answer:\n",
    "\n",
    "decimal = 7\n",
    "\n",
    "print(bin(decimal),\"in binary.\")\n",
    "print(oct(decimal),\"in octal.\")\n",
    "print(hex(decimal),\"in hexadecimal.\")"
   ]
  },
  {
   "cell_type": "code",
   "execution_count": 5,
   "id": "a601774a",
   "metadata": {},
   "outputs": [
    {
     "name": "stdout",
     "output_type": "stream",
     "text": [
      "72\n",
      "101\n",
      "108\n",
      "108\n",
      "111\n"
     ]
    }
   ],
   "source": [
    "#4. Write a Python Program To Find ASCII value of a character?\n",
    "\n",
    "#answer:\n",
    "\n",
    "s = \"Hello\"\n",
    "for i in s:\n",
    "    print(ord(i))"
   ]
  },
  {
   "cell_type": "code",
   "execution_count": 6,
   "id": "ccc0c786",
   "metadata": {},
   "outputs": [
    {
     "name": "stdout",
     "output_type": "stream",
     "text": [
      "1 - Addition\n",
      "2 - Substraction\n",
      "3 - Multiplication\n",
      "4 - Division\n",
      "5 \n",
      "Enter one option from the above list:- 1\n",
      "Addition: 17\n"
     ]
    }
   ],
   "source": [
    "#5. Write a Python Program to Make a Simple Calculator with 4 basic mathematical operations?\n",
    "\n",
    "#answer:\n",
    "\n",
    "a, b = 15, 2\n",
    "print(\"1 - Addition\\n2 - Substraction\\n3 - Multiplication\\n4 - Division\\n5 \")\n",
    "option = int(input(\"Enter one option from the above list:- \"))\n",
    "\n",
    "if option == 1:\n",
    "    print(f\"Addition: {a + b}\")\n",
    "elif option == 2:\n",
    "    print(f\"Substraction: {a - b}\")\n",
    "elif option == 3:\n",
    "    print(f\"Multiplication: {a * b}\")\n",
    "elif option == 4:\n",
    "    print(f\"Division: {a / b}\")\n"
   ]
  },
  {
   "cell_type": "code",
   "execution_count": null,
   "id": "e810ef35",
   "metadata": {},
   "outputs": [],
   "source": []
  }
 ],
 "metadata": {
  "kernelspec": {
   "display_name": "Python 3 (ipykernel)",
   "language": "python",
   "name": "python3"
  },
  "language_info": {
   "codemirror_mode": {
    "name": "ipython",
    "version": 3
   },
   "file_extension": ".py",
   "mimetype": "text/x-python",
   "name": "python",
   "nbconvert_exporter": "python",
   "pygments_lexer": "ipython3",
   "version": "3.9.7"
  }
 },
 "nbformat": 4,
 "nbformat_minor": 5
}
