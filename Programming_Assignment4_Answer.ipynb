{
 "cells": [
  {
   "cell_type": "code",
   "execution_count": 1,
   "id": "f425b98e",
   "metadata": {},
   "outputs": [
    {
     "name": "stdout",
     "output_type": "stream",
     "text": [
      "factorial is 120\n"
     ]
    }
   ],
   "source": [
    "#1. Write a Python Program to Find the Factorial of a Number?\n",
    "\n",
    "#answer:\n",
    "\n",
    "def factorial(n):\n",
    "    return 1 if (n==0 or n==1) else n* factorial(n-1)\n",
    "num =5\n",
    "print(\"factorial is\",factorial(num))"
   ]
  },
  {
   "cell_type": "code",
   "execution_count": 3,
   "id": "eaf4ecdb",
   "metadata": {},
   "outputs": [
    {
     "name": "stdout",
     "output_type": "stream",
     "text": [
      "6 * 1 = 6\n",
      "6 * 2 = 12\n",
      "6 * 3 = 18\n",
      "6 * 4 = 24\n",
      "6 * 5 = 30\n",
      "6 * 6 = 36\n",
      "6 * 7 = 42\n",
      "6 * 8 = 48\n",
      "6 * 9 = 54\n",
      "6 * 10 = 60\n"
     ]
    }
   ],
   "source": [
    "#2. Write a Python Program to Display the multiplication Table?\n",
    "\n",
    "#answer:\n",
    "\n",
    "def table(n, r):\n",
    "    for i in range (1, r + 1):\n",
    "         print(\"%d * %d = %d\" % (n, i, n * i))\n",
    "            \n",
    "n=6\n",
    "r=10\n",
    "table(n,r)\n"
   ]
  },
  {
   "cell_type": "code",
   "execution_count": 8,
   "id": "b09bcc57",
   "metadata": {},
   "outputs": [
    {
     "name": "stdout",
     "output_type": "stream",
     "text": [
      "13\n"
     ]
    }
   ],
   "source": [
    "#3. Write a Python Program to Print the Fibonacci sequence?\n",
    "\n",
    "#answer:\n",
    "\n",
    "def Fibonacci(n):\n",
    "    if n < 0:\n",
    "        print(\"Incorrect input\")\n",
    "    elif n == 0:\n",
    "        return 0\n",
    "    elif n == 1 or n == 2:\n",
    "        return 1\n",
    " \n",
    "    else:\n",
    "        return Fibonacci(n-1) + Fibonacci(n-2)\n",
    "print(Fibonacci(7))"
   ]
  },
  {
   "cell_type": "markdown",
   "id": "4b7c0430",
   "metadata": {},
   "source": [
    "###### "
   ]
  },
  {
   "cell_type": "code",
   "execution_count": 9,
   "id": "10455401",
   "metadata": {},
   "outputs": [
    {
     "name": "stdout",
     "output_type": "stream",
     "text": [
      "The given number 153 is armstrong number\n"
     ]
    }
   ],
   "source": [
    "#4. Write a Python Program to Check Armstrong Number?\n",
    "\n",
    "#answer:\n",
    "\n",
    "n=153 \n",
    "s=n \n",
    "sum1=0\n",
    "while n!=0:\n",
    "    r=n%10\n",
    "    sum1=sum1+(r*r*r)\n",
    "    n=n//10 \n",
    "if s==sum1:\n",
    "    print(\"The given number\",s,\"is armstrong number\")\n",
    "else:\n",
    "    print(\"The given number\",s,\"is not armstrong number\")"
   ]
  },
  {
   "cell_type": "code",
   "execution_count": 10,
   "id": "b68f6ada",
   "metadata": {},
   "outputs": [
    {
     "name": "stdout",
     "output_type": "stream",
     "text": [
      "Enter lower range: 129\n",
      "Enter upper range: 10000\n",
      "153\n",
      "370\n",
      "371\n",
      "407\n"
     ]
    }
   ],
   "source": [
    "#5. Write a Python Program to Find Armstrong Number in an Interval?\n",
    "\n",
    "#answer:\n",
    "\n",
    "lower = int(input(\"Enter lower range: \"))  \n",
    "upper = int(input(\"Enter upper range: \"))  \n",
    "  \n",
    "for num in range(lower,upper + 1):\n",
    "    sum = 0  \n",
    "    temp = num  \n",
    "    while temp > 0:  \n",
    "        digit = temp % 10  \n",
    "        sum += digit ** 3  \n",
    "        temp //= 10  \n",
    "    if num == sum:\n",
    "        print(num) "
   ]
  },
  {
   "cell_type": "code",
   "execution_count": 13,
   "id": "d2c746d1",
   "metadata": {},
   "outputs": [
    {
     "name": "stdout",
     "output_type": "stream",
     "text": [
      "Enter the value of n: 6\n",
      "Sum of first 6 natural numbers is:  21\n"
     ]
    }
   ],
   "source": [
    "#6. Write a Python Program to Find the Sum of Natural Numbers?\n",
    "\n",
    "#answer:\n",
    "\n",
    "num = int(input(\"Enter the value of n: \"))\n",
    "s = num\n",
    "sum = 0\n",
    "\n",
    "if num <= 0: \n",
    "    print(\"Enter a whole positive number!\") \n",
    "else: \n",
    "    while num > 0:\n",
    "        sum = sum + num\n",
    "        num = num - 1;\n",
    "    # displaying output\n",
    "    print(\"Sum of first\", s, \"natural numbers is: \", sum)"
   ]
  },
  {
   "cell_type": "code",
   "execution_count": null,
   "id": "3eafa489",
   "metadata": {},
   "outputs": [],
   "source": []
  }
 ],
 "metadata": {
  "kernelspec": {
   "display_name": "Python 3 (ipykernel)",
   "language": "python",
   "name": "python3"
  },
  "language_info": {
   "codemirror_mode": {
    "name": "ipython",
    "version": 3
   },
   "file_extension": ".py",
   "mimetype": "text/x-python",
   "name": "python",
   "nbconvert_exporter": "python",
   "pygments_lexer": "ipython3",
   "version": "3.9.7"
  }
 },
 "nbformat": 4,
 "nbformat_minor": 5
}
