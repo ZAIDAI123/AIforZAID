{
 "cells": [
  {
   "cell_type": "code",
   "execution_count": 1,
   "id": "120299ea",
   "metadata": {},
   "outputs": [
    {
     "name": "stdout",
     "output_type": "stream",
     "text": [
      "Please enter the speed of car in Kilometre6\n",
      "The speed value of car in Miles:  3.7282260000000003\n"
     ]
    }
   ],
   "source": [
    "#1.\tWrite a Python program to convert kilometers to miles?\n",
    "\n",
    "kilometre = float (input (\"Please enter the speed of car in Kilometre\"))  \n",
    "conversion_ratio = 0.621371  \n",
    "miles = kilometre * conversion_ratio  \n",
    "print (\"The speed value of car in Miles: \", miles)  "
   ]
  },
  {
   "cell_type": "code",
   "execution_count": 12,
   "id": "ee31b425",
   "metadata": {},
   "outputs": [
    {
     "name": "stdout",
     "output_type": "stream",
     "text": [
      "Please enter the degree in celcis77\n",
      "170.6\n"
     ]
    }
   ],
   "source": [
    "#2.\tWrite a Python program to convert Celsius to Fahrenheit?\n",
    "\n",
    "\n",
    "celsius = float (input (\"Please enter the degree in celcis\"))\n",
    "fahrenheit = ((celsius)*9/5)+32\n",
    "print(fahrenheit)\n",
    "                   "
   ]
  },
  {
   "cell_type": "code",
   "execution_count": 15,
   "id": "ea70063e",
   "metadata": {},
   "outputs": [
    {
     "name": "stdout",
     "output_type": "stream",
     "text": [
      "enter year as input2020\n",
      "enter month as input7\n",
      "<module 'calendar' from 'C:\\\\Users\\\\USER\\\\anaconda3\\\\lib\\\\calendar.py'>\n"
     ]
    }
   ],
   "source": [
    "#3.\tWrite a Python program to display calendar?\n",
    "\n",
    "import calendar \n",
    "\n",
    "yy = int(input(\"enter year as input\"))\n",
    "mm = int(input(\"enter month as input\"))\n",
    "#(calendar.month(yy,mm))  \n",
    "print(calendar)"
   ]
  },
  {
   "cell_type": "code",
   "execution_count": 17,
   "id": "5a88af40",
   "metadata": {},
   "outputs": [
    {
     "name": "stdout",
     "output_type": "stream",
     "text": [
      "Enter the value of a2\n",
      "Enter the value of b4\n",
      "Enter the value of c6\n",
      "The roots are (-1-1.4142135623730951j) and (-1+1.4142135623730951j)\n"
     ]
    }
   ],
   "source": [
    "#4.\tWrite a Python program to solve quadratic equation?\n",
    "\n",
    "import cmath \n",
    "\n",
    "a = float(input('Enter the value of a'))\n",
    "b = float(input('Enter the value of b'))\n",
    "c = float(input('Enter the value of c'))\n",
    "\n",
    "discriminant = (b**2) - (4*a*c)\n",
    "\n",
    "\n",
    "root1 = (-b-cmath.sqrt(discriminant))/(2*a)\n",
    "root2 = (-b+cmath.sqrt(discriminant))/(2*a)\n",
    "\n",
    "\n",
    "print('The roots are {0} and {1}'.format(root1,root2))"
   ]
  },
  {
   "cell_type": "code",
   "execution_count": 19,
   "id": "010e33e8",
   "metadata": {},
   "outputs": [
    {
     "name": "stdout",
     "output_type": "stream",
     "text": [
      "value of x is : 5 value of y is : 10\n"
     ]
    }
   ],
   "source": [
    "#5.\tWrite a Python program to swap two variables without temp variable?\n",
    "\n",
    "x = 10\n",
    "y = 5\n",
    "\n",
    "x = x+y\n",
    "y = x -y\n",
    "x = x -y\n",
    "\n",
    "print ('value of x is :' , x ,'value of y is :' ,y)"
   ]
  },
  {
   "cell_type": "code",
   "execution_count": null,
   "id": "a2e5ec09",
   "metadata": {},
   "outputs": [],
   "source": []
  }
 ],
 "metadata": {
  "kernelspec": {
   "display_name": "Python 3 (ipykernel)",
   "language": "python",
   "name": "python3"
  },
  "language_info": {
   "codemirror_mode": {
    "name": "ipython",
    "version": 3
   },
   "file_extension": ".py",
   "mimetype": "text/x-python",
   "name": "python",
   "nbconvert_exporter": "python",
   "pygments_lexer": "ipython3",
   "version": "3.9.7"
  }
 },
 "nbformat": 4,
 "nbformat_minor": 5
}
