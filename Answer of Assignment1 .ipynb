{
 "cells": [
  {
   "cell_type": "markdown",
   "id": "ce41194c",
   "metadata": {},
   "source": [
    "# answer: 1\n",
    "as we know that if we want to define s= 'hello' or s = 6 and s = -87.8 we will get output as string,int,float hence these are values and -,/,+ are mathematical operator hence these will be expression.\n"
   ]
  },
  {
   "cell_type": "markdown",
   "id": "0c20be8f",
   "metadata": {},
   "source": [
    "# answer :2\n",
    "What is the difference between string and variable?\n",
    "\n",
    "A variable is a store of information and string is a type of information you stored in a variable e.g\n",
    "\n",
    "s = 'zaid' , in this .....s is variable which stores the string value and 'zaid' is the string\n"
   ]
  },
  {
   "cell_type": "markdown",
   "id": "56db82a3",
   "metadata": {},
   "source": [
    "# answer :3\n",
    "Describe three different data types?\n",
    "\n",
    "1 = integer\n",
    "2 = floats\n",
    "3 = boolean/lists\n",
    "e.g:\n",
    "s = 123\n",
    "type(s)\n",
    "output: int\n",
    "\n",
    "s = 'zaid'\n",
    "s1 = 'zaid'\n",
    "if s1 == s:\n",
    "    print(True)\n",
    "else:\n",
    "    print(False)\n",
    " output: True\n",
    " \n",
    " s = 'zaid'\n",
    "s1 = 'zzzz'\n",
    "if s1 == s:\n",
    "    print(True)\n",
    "else:\n",
    "    print(False)\n",
    " output:False\n",
    " \n",
    " s = -87.8\n",
    "type(s)\n",
    "output:float"
   ]
  },
  {
   "cell_type": "markdown",
   "id": "cafcad47",
   "metadata": {},
   "source": [
    "# answer :4\n",
    "What is an expression made up of? What do all expressions do?\n",
    "\n",
    "answer:\n",
    "An expression is a combination of operators and operands that is interpreted to produce some other value.\n",
    "Expressions are representations of value. They are different from statement in the fact that statements do something while expressions are representation of value. For example any string is also an expressions since it represents the value of the string as well."
   ]
  },
  {
   "cell_type": "markdown",
   "id": "68a5432a",
   "metadata": {},
   "source": [
    "# answer :5\n",
    "This assignment statements, like spam = 10. What is the difference between an expression and a statement?\n",
    "\n",
    "in this example spam =10 , in this we have assign a value to a variable hence it is know as statement and if we direct put only 10 in the intrepeter and get the result such as \n",
    "input in jupyter notebook = 10\n",
    "we will get the output as 10 here we dont need a variable this is known as expresssion"
   ]
  },
  {
   "cell_type": "code",
   "execution_count": 8,
   "id": "3ad1b0f3",
   "metadata": {},
   "outputs": [
    {
     "data": {
      "text/plain": [
       "23"
      ]
     },
     "execution_count": 8,
     "metadata": {},
     "output_type": "execute_result"
    }
   ],
   "source": [
    "#answer :6\n",
    "\n",
    "bacon = 22\n",
    "bacon + 1"
   ]
  },
  {
   "cell_type": "code",
   "execution_count": 7,
   "id": "ac272a98",
   "metadata": {},
   "outputs": [
    {
     "data": {
      "text/plain": [
       "'spamspamspam'"
      ]
     },
     "execution_count": 7,
     "metadata": {},
     "output_type": "execute_result"
    }
   ],
   "source": [
    "#answer: 7\n",
    "\n",
    "s = 'spam' + 'spamspam'\n",
    "s"
   ]
  },
  {
   "cell_type": "code",
   "execution_count": 9,
   "id": "58e02c20",
   "metadata": {},
   "outputs": [
    {
     "data": {
      "text/plain": [
       "'spamspamspam'"
      ]
     },
     "execution_count": 9,
     "metadata": {},
     "output_type": "execute_result"
    }
   ],
   "source": [
    "#answer: 7\n",
    "\n",
    "s ='spam' * 3\n",
    "s"
   ]
  },
  {
   "cell_type": "markdown",
   "id": "f6c27625",
   "metadata": {},
   "source": [
    "# answer :8\n",
    "\n",
    "Why is eggs a valid variable name while 100 is invalid?\n",
    "because a variable name cannot start with integer hence eggs is a valid variable name:\n",
    "\n",
    "eggs =123\n",
    "eggs\n",
    "output:123\n",
    "\n",
    "but we cant work like this:'\n",
    "100 = \"zaid\"\n",
    "SyntaxError: cannot assign to literal"
   ]
  },
  {
   "cell_type": "markdown",
   "id": "efa6a3fb",
   "metadata": {},
   "source": [
    "# answer :9\n",
    "What three functions can be used to get the integer, floating-point number, or string version of a value?\n",
    "\n",
    "answer:\n",
    "The int(), float(), and str() functions will evaluate to the integer, floating-point number, and string versions."
   ]
  },
  {
   "cell_type": "code",
   "execution_count": 12,
   "id": "51e7e552",
   "metadata": {},
   "outputs": [
    {
     "data": {
      "text/plain": [
       "'I have eaten 99 burritos.'"
      ]
     },
     "execution_count": 12,
     "metadata": {},
     "output_type": "execute_result"
    }
   ],
   "source": [
    "#answer :10 = string only concatenate with string hence we need to change this 99 to string bu using str(99) or \"99\"\n",
    "\n",
    "s ='I have eaten ' + str(99) + ' burritos.'\n",
    "s\n",
    "    "
   ]
  },
  {
   "cell_type": "code",
   "execution_count": null,
   "id": "796372c2",
   "metadata": {},
   "outputs": [],
   "source": []
  }
 ],
 "metadata": {
  "kernelspec": {
   "display_name": "Python 3 (ipykernel)",
   "language": "python",
   "name": "python3"
  },
  "language_info": {
   "codemirror_mode": {
    "name": "ipython",
    "version": 3
   },
   "file_extension": ".py",
   "mimetype": "text/x-python",
   "name": "python",
   "nbconvert_exporter": "python",
   "pygments_lexer": "ipython3",
   "version": "3.9.7"
  }
 },
 "nbformat": 4,
 "nbformat_minor": 5
}
